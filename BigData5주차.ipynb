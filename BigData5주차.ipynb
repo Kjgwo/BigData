{
  "nbformat": 4,
  "nbformat_minor": 0,
  "metadata": {
    "colab": {
      "name": "BigData5주차.ipynb",
      "private_outputs": true,
      "provenance": [],
      "collapsed_sections": [],
      "authorship_tag": "ABX9TyONt7pLsH8QssYPJUbIIr+M",
      "include_colab_link": true
    },
    "kernelspec": {
      "name": "python3",
      "display_name": "Python 3"
    },
    "language_info": {
      "name": "python"
    },
    "accelerator": "GPU"
  },
  "cells": [
    {
      "cell_type": "markdown",
      "metadata": {
        "id": "view-in-github",
        "colab_type": "text"
      },
      "source": [
        "<a href=\"https://colab.research.google.com/github/Kjgwo/BigData/blob/main/BigData5%EC%A3%BC%EC%B0%A8.ipynb\" target=\"_parent\"><img src=\"https://colab.research.google.com/assets/colab-badge.svg\" alt=\"Open In Colab\"/></a>"
      ]
    },
    {
      "cell_type": "markdown",
      "source": [
        "BeautifulSoup"
      ],
      "metadata": {
        "id": "VrCnmtcZVeJd"
      }
    },
    {
      "cell_type": "code",
      "execution_count": null,
      "metadata": {
        "id": "EUx2Ia0TUpXK"
      },
      "outputs": [],
      "source": [
        "import requests\n",
        "import re\n",
        "crawling_url = 'http://www.hanbit.co.kr/store/books/full_book_list.html'\n",
        "response = requests.get(crawling_url)\n",
        "text = response.text"
      ]
    },
    {
      "cell_type": "code",
      "source": [
        "from bs4 import BeautifulSoup as bs"
      ],
      "metadata": {
        "id": "wH3HjlirVCBv"
      },
      "execution_count": null,
      "outputs": []
    },
    {
      "cell_type": "code",
      "source": [
        "soup = bs(text, 'html.parser')"
      ],
      "metadata": {
        "id": "IWI-szrSVRbY"
      },
      "execution_count": null,
      "outputs": []
    },
    {
      "cell_type": "code",
      "source": [
        "result = soup.find_all('tr')"
      ],
      "metadata": {
        "id": "ktN3qKVdVrBo"
      },
      "execution_count": null,
      "outputs": []
    },
    {
      "cell_type": "code",
      "source": [
        "urls = []\n",
        "titles = []\n",
        "authors = []\n",
        "dates = []\n",
        "brands = []\n",
        "prices = []\n",
        "\n",
        "for item in result:\n",
        "    it1 = item.find_all('a')\n",
        "    it2 = item.find_all('td')\n",
        "    for it in it1:\n",
        "        url = it.get('href')\n",
        "        if(url == None):\n",
        "            continue\n",
        "        url = \"https://www.hanbit.co.kr\" + url\n",
        "        urls.append(url)\n",
        "\n",
        "        brands.append(it2[0].string)\n",
        "        titles.append(it2[1].string)\n",
        "        authors.append(it2[2].string)\n",
        "        dates.append(it2[3].string)\n",
        "        prices.append(it2[4].string)"
      ],
      "metadata": {
        "id": "N_lUA3KpVuZi"
      },
      "execution_count": null,
      "outputs": []
    },
    {
      "cell_type": "code",
      "source": [
        "import pandas as pd\n",
        "df = pd.DataFrame(\n",
        "    {\n",
        "        \"BRAND\": brands,\n",
        "        \"TITLE\": titles,\n",
        "        \"AUTHOR\": authors,\n",
        "        \"DATE\": dates,\n",
        "        \"PRICE\": prices\n",
        "    }\n",
        ")\n",
        "df"
      ],
      "metadata": {
        "id": "7JHZn9woWnUW"
      },
      "execution_count": null,
      "outputs": []
    },
    {
      "cell_type": "code",
      "source": [
        "import requests\n",
        "crawling_url = 'http://www.kyobobook.co.kr/bestSellerNew/bestseller.laf?orderClick=d79'\n",
        "response = requests.get(crawling_url)\n",
        "text = response.text"
      ],
      "metadata": {
        "id": "a7CNgI1nXfT3"
      },
      "execution_count": null,
      "outputs": []
    },
    {
      "cell_type": "code",
      "source": [
        "from bs4 import BeautifulSoup as bs"
      ],
      "metadata": {
        "id": "U1VYAQsXYPxT"
      },
      "execution_count": null,
      "outputs": []
    },
    {
      "cell_type": "code",
      "source": [
        "soup = bs(text, 'html.parser')"
      ],
      "metadata": {
        "id": "YckYPNlTY7YM"
      },
      "execution_count": null,
      "outputs": []
    },
    {
      "cell_type": "code",
      "source": [
        "date = soup.find('h4', {'class': 'title_best_basic'}).find('small').text\n",
        "print(date)"
      ],
      "metadata": {
        "id": "f51Km2wyY_18"
      },
      "execution_count": null,
      "outputs": []
    },
    {
      "cell_type": "code",
      "source": [
        "bestseller = soup.find('ul', {'class': 'list_type01'})\n",
        "bestseller"
      ],
      "metadata": {
        "id": "mbyOfdQ8ZLV_"
      },
      "execution_count": null,
      "outputs": []
    },
    {
      "cell_type": "code",
      "source": [
        "bestseller_list = bestseller.findAll('div', {'class': 'detail'})\n",
        "len(bestseller_list)"
      ],
      "metadata": {
        "id": "DYIvMpc5mk5S"
      },
      "execution_count": null,
      "outputs": []
    },
    {
      "cell_type": "markdown",
      "source": [
        "책 제목 찾기"
      ],
      "metadata": {
        "id": "tbpljfNfmyFZ"
      }
    },
    {
      "cell_type": "code",
      "source": [
        "title_list = []\n",
        "\n",
        "for b_detail in bestseller_list:\n",
        "    temp = b_detail.find('div', {'class': 'title'})\n",
        "    title = temp.find('strong').text\n",
        "    title_list.append(title)"
      ],
      "metadata": {
        "id": "9-rjWjS6mukk"
      },
      "execution_count": null,
      "outputs": []
    },
    {
      "cell_type": "markdown",
      "source": [
        "저자, 출판사, 출판 일시 찾기"
      ],
      "metadata": {
        "id": "-8eI9RTQnBiV"
      }
    },
    {
      "cell_type": "code",
      "source": [
        "def no_space(text):\n",
        "    text1 = re.sub(\"\\nbsp: | &nbsp: | \\n|\\t|\\r\", '',  text )\n",
        "    text2 = re.sub(\"\\n\\n\", '', text1)\n",
        "    return text2"
      ],
      "metadata": {
        "id": "n3v1cxySnAEv"
      },
      "execution_count": null,
      "outputs": []
    },
    {
      "cell_type": "code",
      "source": [
        "def get_item(text, idx):\n",
        "    text2 = \"\"\n",
        "    cnt = 0\n",
        "    for t in text:\n",
        "        if( (len(text2) == 0 & (t == \" \"))):\n",
        "            continue\n",
        "        if( t == \"\\n\"):\n",
        "            continue\n",
        "        if( cnt == idx-1):\n",
        "            if( t != \"|\"):\n",
        "                text2 = text2 + t\n",
        "        if( t == \"|\"):\n",
        "            cnt += 1\n",
        "        if( cnt == idx):\n",
        "            break\n",
        "    return text2"
      ],
      "metadata": {
        "id": "j9Ci-3Ownndp"
      },
      "execution_count": null,
      "outputs": []
    },
    {
      "cell_type": "code",
      "source": [
        "author_list = []\n",
        "publisher_list = []\n",
        "date_list = []\n",
        "\n",
        "for b_detail in bestseller_list:\n",
        "    temp = b_detail.find('div', {'class': 'author'})\n",
        "    temp2 = temp.get_text()\n",
        "    output = re.sub(r'<.*?>', '', temp2)\n",
        "    output = re.sub('저자', '', output)\n",
        "    output = re.sub('더보기', '', output)\n",
        "    output = no_space(output)\n",
        "    author = get_item(output, 1)\n",
        "    author_list.append(author)\n",
        "    publisher = get_item(output, 2)\n",
        "    publisher_list.append(publisher)\n",
        "    date = get_item(output, 3)\n",
        "    date_list.append(date)"
      ],
      "metadata": {
        "id": "HMhaW1FgoRKr"
      },
      "execution_count": null,
      "outputs": []
    },
    {
      "cell_type": "markdown",
      "source": [
        "가격 찾기"
      ],
      "metadata": {
        "id": "PJJIgVWIrA88"
      }
    },
    {
      "cell_type": "code",
      "source": [
        "price_list = []\n",
        "for b_detail in bestseller_list:\n",
        "    temp2 = b_detail.find('div', {'class': 'price'})\n",
        "    price = temp2.find('strong').text1\n",
        "    price_list.append(price)"
      ],
      "metadata": {
        "id": "DSBEA2WlqD53"
      },
      "execution_count": null,
      "outputs": []
    },
    {
      "cell_type": "code",
      "source": [
        "import pandas as pd\n",
        "df3 = pd.DataFrame(\n",
        "    {\n",
        "        'TITLE': title_list,\n",
        "     'AUTHOR': author_list,\n",
        "    'DATE': date_list,\n",
        "    'PRICE': price_list,\n",
        "    'PUBLISHER': publisher_list\n",
        "    }\n",
        ")"
      ],
      "metadata": {
        "id": "DVeHcxi3rsRf"
      },
      "execution_count": null,
      "outputs": []
    },
    {
      "cell_type": "code",
      "source": [
        "df3"
      ],
      "metadata": {
        "id": "QktX-Dz5sRxA"
      },
      "execution_count": null,
      "outputs": []
    },
    {
      "cell_type": "code",
      "source": [
        ""
      ],
      "metadata": {
        "id": "RMeSqGfxsSSA"
      },
      "execution_count": null,
      "outputs": []
    }
  ]
}