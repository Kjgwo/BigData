{
  "nbformat": 4,
  "nbformat_minor": 0,
  "metadata": {
    "colab": {
      "name": "BigData5주차.ipynb",
      "private_outputs": true,
      "provenance": [],
      "collapsed_sections": [],
      "authorship_tag": "ABX9TyMG5vlZqGxd2pXfDB0GMTXh",
      "include_colab_link": true
    },
    "kernelspec": {
      "name": "python3",
      "display_name": "Python 3"
    },
    "language_info": {
      "name": "python"
    },
    "accelerator": "GPU"
  },
  "cells": [
    {
      "cell_type": "markdown",
      "metadata": {
        "id": "view-in-github",
        "colab_type": "text"
      },
      "source": [
        "<a href=\"https://colab.research.google.com/github/Kjgwo/BigData/blob/main/BigData5%EC%A3%BC%EC%B0%A8.ipynb\" target=\"_parent\"><img src=\"https://colab.research.google.com/assets/colab-badge.svg\" alt=\"Open In Colab\"/></a>"
      ]
    },
    {
      "cell_type": "markdown",
      "source": [
        "BeautifulSoup"
      ],
      "metadata": {
        "id": "VrCnmtcZVeJd"
      }
    },
    {
      "cell_type": "code",
      "execution_count": null,
      "metadata": {
        "id": "EUx2Ia0TUpXK"
      },
      "outputs": [],
      "source": [
        "import requests\n",
        "crawling_url = 'http://www.hanbit.co.kr/store/books/full_book_list.html'\n",
        "response = requests.get(crawling_url)\n",
        "text = response.text"
      ]
    },
    {
      "cell_type": "code",
      "source": [
        "from bs4 import BeautifulSoup as bs"
      ],
      "metadata": {
        "id": "wH3HjlirVCBv"
      },
      "execution_count": null,
      "outputs": []
    },
    {
      "cell_type": "code",
      "source": [
        "soup = bs(text, 'html.parser')"
      ],
      "metadata": {
        "id": "IWI-szrSVRbY"
      },
      "execution_count": null,
      "outputs": []
    },
    {
      "cell_type": "code",
      "source": [
        "result = soup.find_all('tr')"
      ],
      "metadata": {
        "id": "ktN3qKVdVrBo"
      },
      "execution_count": null,
      "outputs": []
    },
    {
      "cell_type": "code",
      "source": [
        "urls = []\n",
        "titles = []\n",
        "authors = []\n",
        "dates = []\n",
        "brands = []\n",
        "prices = []\n",
        "\n",
        "for item in result:\n",
        "    it1 = item.find_all('a')\n",
        "    it2 = item.find_all('td')\n",
        "    for it in it1:\n",
        "        url = it.get('href')\n",
        "        if(url == None):\n",
        "            continue\n",
        "        url = \"https://www.hanbit.co.kr\" + url\n",
        "        urls.append(url)\n",
        "\n",
        "        brands.append(it2[0].string)\n",
        "        titles.append(it2[1].string)\n",
        "        authors.append(it2[2].string)\n",
        "        dates.append(it2[3].string)\n",
        "        prices.append(it2[4].string)"
      ],
      "metadata": {
        "id": "N_lUA3KpVuZi"
      },
      "execution_count": null,
      "outputs": []
    },
    {
      "cell_type": "code",
      "source": [
        "import pandas as pd\n",
        "df = pd.DataFrame(\n",
        "    {\n",
        "        \"BRAND\": brands,\n",
        "        \"TITLE\": titles,\n",
        "        \"AUTHOR\": authors,\n",
        "        \"DATE\": dates,\n",
        "        \"PRICE\": prices\n",
        "    }\n",
        ")\n",
        "df"
      ],
      "metadata": {
        "id": "7JHZn9woWnUW"
      },
      "execution_count": null,
      "outputs": []
    },
    {
      "cell_type": "code",
      "source": [
        "import requests\n",
        "crawling_url = 'http://www.kyobobook.co.kr/bestSellerNew/bestseller.laf?orderClick=d79'\n",
        "response = requests.get(crawling_url)\n",
        "text = response.text"
      ],
      "metadata": {
        "id": "a7CNgI1nXfT3"
      },
      "execution_count": null,
      "outputs": []
    },
    {
      "cell_type": "code",
      "source": [
        "from bs4 import BeautifulSoup as bs"
      ],
      "metadata": {
        "id": "U1VYAQsXYPxT"
      },
      "execution_count": null,
      "outputs": []
    },
    {
      "cell_type": "code",
      "source": [
        "soup = bs(text, 'html.parser')"
      ],
      "metadata": {
        "id": "YckYPNlTY7YM"
      },
      "execution_count": null,
      "outputs": []
    },
    {
      "cell_type": "code",
      "source": [
        "date = soup.find('h4', {'class': 'title_best_basic'}).find('small').text\n",
        "print(date)"
      ],
      "metadata": {
        "id": "f51Km2wyY_18"
      },
      "execution_count": null,
      "outputs": []
    },
    {
      "cell_type": "code",
      "source": [
        ""
      ],
      "metadata": {
        "id": "mbyOfdQ8ZLV_"
      },
      "execution_count": null,
      "outputs": []
    }
  ]
}