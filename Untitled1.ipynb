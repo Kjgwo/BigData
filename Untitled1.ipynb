{
  "nbformat": 4,
  "nbformat_minor": 0,
  "metadata": {
    "colab": {
      "name": "Untitled1.ipynb",
      "private_outputs": true,
      "provenance": [],
      "collapsed_sections": [],
      "authorship_tag": "ABX9TyOonDp1kqvMNP3j48254ca6",
      "include_colab_link": true
    },
    "kernelspec": {
      "name": "python3",
      "display_name": "Python 3"
    },
    "language_info": {
      "name": "python"
    }
  },
  "cells": [
    {
      "cell_type": "markdown",
      "metadata": {
        "id": "view-in-github",
        "colab_type": "text"
      },
      "source": [
        "<a href=\"https://colab.research.google.com/github/Kjgwo/BigData/blob/main/Untitled1.ipynb\" target=\"_parent\"><img src=\"https://colab.research.google.com/assets/colab-badge.svg\" alt=\"Open In Colab\"/></a>"
      ]
    },
    {
      "cell_type": "code",
      "execution_count": null,
      "metadata": {
        "id": "V3OXrB15WmRm"
      },
      "outputs": [],
      "source": [
        "import pandas as pd\n",
        "import numpy as np\n",
        "\n",
        "from google.colab import drive\n",
        "drive.mount('/BigData')\n",
        "from google.colab import files\n",
        "files.upload()"
      ]
    },
    {
      "cell_type": "code",
      "source": [
        "data = pd.read_csv('ProblemDetail.csv')"
      ],
      "metadata": {
        "id": "55dmZ7TFW3MH"
      },
      "execution_count": null,
      "outputs": []
    },
    {
      "cell_type": "code",
      "source": [
        "df = pd.DataFrame(data)\n",
        "df"
      ],
      "metadata": {
        "id": "dhAW4ehPYRkk"
      },
      "execution_count": null,
      "outputs": []
    },
    {
      "cell_type": "code",
      "source": [
        "df = df.drop(['titleKo'], axis = 1)"
      ],
      "metadata": {
        "id": "Op92TEOOYSnX"
      },
      "execution_count": null,
      "outputs": []
    },
    {
      "cell_type": "code",
      "source": [
        "df"
      ],
      "metadata": {
        "id": "Ujh8qtSNY0XI"
      },
      "execution_count": null,
      "outputs": []
    },
    {
      "cell_type": "code",
      "source": [
        "from google.colab import drive\n",
        "drive.mount('/BigData')\n",
        "from google.colab import files\n",
        "files.upload()"
      ],
      "metadata": {
        "id": "8pquP1OCfW44"
      },
      "execution_count": null,
      "outputs": []
    },
    {
      "cell_type": "code",
      "source": [
        "from pathlib import Path\n",
        "\n",
        "content = Path(\"taglist.txt\").read_text().replace('\\n', ' ')\n",
        "print(type(content))"
      ],
      "metadata": {
        "id": "gIdAW8OgjI0x"
      },
      "execution_count": null,
      "outputs": []
    },
    {
      "cell_type": "code",
      "source": [
        "# filename = \"taglist.txt\"\n",
        "# with open(filename,\"r\") as f :\n",
        "#     lines = f.readlines()\n",
        "# lines = [line.strip().replace(\"\\n\", \" \") for line in lines]"
      ],
      "metadata": {
        "id": "vtC9HE3XZXP6"
      },
      "execution_count": null,
      "outputs": []
    },
    {
      "cell_type": "code",
      "source": [
        "import re\n",
        "\n",
        "pattern = r'\"key\": \".*?\"'\n",
        "\n",
        "taglist = re.findall(pattern, content)"
      ],
      "metadata": {
        "id": "tSNjxSe_jkgL"
      },
      "execution_count": null,
      "outputs": []
    },
    {
      "cell_type": "code",
      "source": [
        "print(type(taglist))"
      ],
      "metadata": {
        "id": "l9_stVn9jpeH"
      },
      "execution_count": null,
      "outputs": []
    },
    {
      "cell_type": "code",
      "source": [
        "pattern1 = r'\"key\":'\n",
        "pattern2 = r'\\''"
      ],
      "metadata": {
        "id": "KNR_cQyQlmFl"
      },
      "execution_count": null,
      "outputs": []
    },
    {
      "cell_type": "code",
      "source": [
        "taglist = str(taglist)\n",
        "taglist = re.sub(pattern1, \"\", taglist)\n",
        "taglist = re.sub(pattern2, \"\", taglist)\n",
        "taglist = re.sub('\\[', \"\", taglist)\n",
        "taglist = re.sub('\\]', \"\", taglist)\n",
        "taglist = re.sub('\\\"', \"\", taglist)"
      ],
      "metadata": {
        "id": "THiYdCTctDVG"
      },
      "execution_count": null,
      "outputs": []
    },
    {
      "cell_type": "code",
      "source": [
        "print(taglist)"
      ],
      "metadata": {
        "id": "hDeTYJP9r8nC"
      },
      "execution_count": null,
      "outputs": []
    },
    {
      "cell_type": "code",
      "source": [
        "taglist = re.sub(\" \", \"\", taglist)"
      ],
      "metadata": {
        "id": "z-8kjvTOQjB1"
      },
      "execution_count": null,
      "outputs": []
    },
    {
      "cell_type": "code",
      "source": [
        "taglist = taglist.split(\",\")"
      ],
      "metadata": {
        "id": "uyp_JTsOtPId"
      },
      "execution_count": null,
      "outputs": []
    },
    {
      "cell_type": "code",
      "source": [
        "print(taglist)"
      ],
      "metadata": {
        "id": "OP5vg9xDvPWs"
      },
      "execution_count": null,
      "outputs": []
    },
    {
      "cell_type": "code",
      "source": [
        "print(len(taglist))"
      ],
      "metadata": {
        "id": "m6_L2UydvQ6X"
      },
      "execution_count": null,
      "outputs": []
    },
    {
      "cell_type": "code",
      "source": [
        "print(taglist)"
      ],
      "metadata": {
        "id": "Z5Aj8wpMvd2d"
      },
      "execution_count": null,
      "outputs": []
    },
    {
      "cell_type": "code",
      "source": [
        "df"
      ],
      "metadata": {
        "id": "xbFfx3v1xpdz"
      },
      "execution_count": null,
      "outputs": []
    },
    {
      "cell_type": "code",
      "source": [
        "for k in df['tag-key']:\n",
        "    print(k)"
      ],
      "metadata": {
        "id": "xwNgVkCpP13N"
      },
      "execution_count": null,
      "outputs": []
    },
    {
      "cell_type": "code",
      "source": [
        ""
      ],
      "metadata": {
        "id": "1LyXj5EiP5ba"
      },
      "execution_count": null,
      "outputs": []
    },
    {
      "cell_type": "code",
      "source": [
        ""
      ],
      "metadata": {
        "id": "5eqT9XrHRTR7"
      },
      "execution_count": null,
      "outputs": []
    }
  ]
}