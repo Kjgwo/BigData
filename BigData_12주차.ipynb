{
  "nbformat": 4,
  "nbformat_minor": 0,
  "metadata": {
    "colab": {
      "name": "BigData 12주차.ipynb",
      "private_outputs": true,
      "provenance": [],
      "collapsed_sections": [],
      "authorship_tag": "ABX9TyNEM5uwj5fYfVCaFMsbvXkx",
      "include_colab_link": true
    },
    "kernelspec": {
      "name": "python3",
      "display_name": "Python 3"
    },
    "language_info": {
      "name": "python"
    }
  },
  "cells": [
    {
      "cell_type": "markdown",
      "metadata": {
        "id": "view-in-github",
        "colab_type": "text"
      },
      "source": [
        "<a href=\"https://colab.research.google.com/github/Kjgwo/BigData/blob/main/BigData_12%EC%A3%BC%EC%B0%A8.ipynb\" target=\"_parent\"><img src=\"https://colab.research.google.com/assets/colab-badge.svg\" alt=\"Open In Colab\"/></a>"
      ]
    },
    {
      "cell_type": "markdown",
      "source": [
        "Adaboost 구현\n",
        "breast_cancer dataset 사용"
      ],
      "metadata": {
        "id": "5TxRqv8Xvw64"
      }
    },
    {
      "cell_type": "code",
      "execution_count": null,
      "metadata": {
        "id": "w8lw4Hk3vsJP"
      },
      "outputs": [],
      "source": [
        "from sklearn.datasets import load_breast_cancer\n",
        "from sklearn.metrics import mean_squared_error\n",
        "from sklearn.model_selection import train_test_split\n",
        "from sklearn.tree import DecisionTreeClassifier\n",
        "import numpy as np\n",
        "import pandas as pd\n",
        "cdata = load_breast_cancer()"
      ]
    },
    {
      "cell_type": "markdown",
      "source": [
        "dataset 구축"
      ],
      "metadata": {
        "id": "RRvtKB36wGEp"
      }
    },
    {
      "cell_type": "code",
      "source": [
        "X = cdata.data\n",
        "X = X.astype(float)\n",
        "y = np.where(cdata.target == 0, -1, 1)\n",
        "trainX, testX, trainy, testy = train_test_split(X, y, test_size=0.3, random_state=1)"
      ],
      "metadata": {
        "id": "z_ZINvzpv6lx"
      },
      "execution_count": null,
      "outputs": []
    },
    {
      "cell_type": "markdown",
      "source": [
        "![image.png](data:image/png;base64,iVBORw0KGgoAAAANSUhEUgAAALEAAAAxCAYAAACVmUgdAAAAAXNSR0IArs4c6QAAAARnQU1BAACxjwv8YQUAAAAJcEhZcwAAEnQAABJ0Ad5mH3gAABFKSURBVHhe7ZwLWFRV18f/MzCAIoKCKKiABXhBuaiA19AIFNMIX0tTX8WwUhToJt7RRAJN6zUES40v/RS8pqRmL1qppAZKmICAIIKKXAQGQWSGOTPrPcAx7jAMXnKc3/PsZ56zzm3NPv+zzzp777N4xAIVKp5j+NyvChXPLUrSEj/E7b+uIKdcxi23DL+7JUYNMuSWnjGMEPcedEUPPTXO8JwjzkNSwi1oDrCHZffW28eHJcUgPX1oP4ZmVElELMTx+XbwiMgBGQzDFNeB6MLjVlUjLUdG7H8Rf0cEjckREB2bx614EohwfpMXvogthww8aDt+iKgV47l1HLJCnA9bgdW7b8JuxW5s9ujNrXiOuR+Pze9MxZrfisG38MSuE1vh0belm5NB8vZ5WPCdECP9QhAwczB0uDUKUS1iZUCat5/e6a1GPIEFLfy5hLPWwWR/R+49+KQ5OYKzPEHKDtEs9lzqFovodClnewSTQwe9rMjstfUUWyjljM8WiaiSxB1wRZoXQ8tG96Oh7+6kP/PT6IDfKDKxmkdRNyTcFs0jvnmEFg8zoTEBZ0nI2RRBaUTMViXd2jWVevF5JOjv01Q8VEm/Ln6JOj8NEQt3kXsXdXrZ9wyJOVMtDKWFulCPl7wouuifIWDp3QhyN5tCO3MV9IdJo6/fciW/falUwZlYedLNH5eT2xuf05XWdUxMZjhNNOxHnj8UsFdQMZRIxCxMFm2fbEB8ngYN+vgMlXHmR4jiwsj3q1hu6RFiKspKoeTkFMoqqic5STHdvJZJ+ZXccmU+ZaYkU3JKNpUwnK0FxGd86WV1PXorqpEHwmia10eHxn91g5VzI8rT6dSu7bQn9g79fd2lQsq5Vn3ONMot52yPFYauBY8mC6/jTepKXsrTT9Gu7Xso9k6dWqXCHLqWnEwpabnUttsi+v2T/tTJZhVdanjHy41yiZiFSQ8ll2584mlak3/sA87aCtI8ilk5lgz4Ahq8PP5vAYl//5gsNUxo4WlRzTKTHc0++nTYcMWOAlptXhjK2DCKBBpjaVNWQ6mWRE6j7p3G05acRm3Og4sU6GpH1uZ6pKbjTF/f4PZ7cIlCJ5uQGk+HpkQU1toUooJSY/bS7t27G5bvN9LbFr3IddX//W3beyqNfWbJx4OLgeRqZ03memqk4/w11bkdSpNN2NBOZwrJ47b4wqfUX8OCPjynmIqVTsRsE0rJXzhRVzas0LJbSRfrnnEt8+AgvdNNnXq//zPbLlTDUObG0aTB60L/inx0I4joF28z0h4ZTNdabYlLac9UXRJYfESxDa6JiH5+vw8b6nxKFxpdq8o/wmhDdB6JLq2gIYJO5Lotj3u0SqlgmwtpGU6nfUU1BsWQFtC+haPJwcGhQbHuq0OdjKzIvp5tzOKDJN+pKumPsA0UnSeiSyuGkKCTK23L425O9nzbXLTIcPo++Y5VcYBm6GmQ/fqUpk8oOVBCEbOIE2n9iC7E43Wm4QHxbbcskjhaZiUgnWlRtXEdk0Kfv2JCxvpa5PRVTq2gJFcoYFgfmrG/sPXYTfQbLe6nTnpv72v4iJbepa3OGqTxaii1GH6KTtL83gIyWXCKu5nK6MicPjTY/wK3/BhhQ68tzi/RrENNX4Lbi+jkfOotMKEFpzgvy47QnD6Dyf+CnF6LL5L/QAEZzDkq91OgPso52KFhi0+2fAQ7rUpcOx+Hwra6j/lGMDLkQSwsxn122we/huFYn0WYY85DUWEBqncvPx2OQ1reWDm1BzdCxCBh3ViYeuzA3XrHl+bEIeEOH9aOjtDmbDVQKUrLCLzOXaDTUq0L7DB8sDoK0lNRxB5TVhCNvfGOWOLnCE1uEzAJWDfWFB477tb4pShM0vfYfXcK3nu9G2dRHIHdcAxWL0B6ahHrkwwF0XsR77gEfo5/e9263/wu0O4MVNy/z9Zq+1FOEbPVJLyVA6GmI5YFvwuTtv4lX58VcWdWZ8UolqTimy9SMcnfEy93B0oKCsFUXUVo8GW4BvqwF4vbhz2HwNINPp5O6Fnv+OXxcUiBGYY7GjeqXAEEAvaHkaCq1tAU1g87u5dAWWlIk1QhMXwHSjzXYqZxvSPJBLB084GnU0/5L56sAJHz7WFra1tX3vgPrhYcg++Ieja22H+wH8XcbvLC17eD3UuErLQ0SKoSEb6jBJ5rZ6K+2637LQHDqldNXaCQIBXZ5x+P9EYEFviehPm6CCy3Z2/xNlFHr14G4JXeQ2rkWhw294ePTVf07NkV9wvzkPLtMvwwMBCrx3ep3VyWj7hDUUgQWWKMoznquvTF+POPRDzUtoWDtQZn41DTh6GBBmTCItyTcrYmqGOQrRU6F9xAxtWdWHduDIL8BrPWWmT5cTgUlQCR5Rg4mrdjlI+vixGeq7BmzZqaErDYHmri4VgavglrOdujsmqOA7h/KT/qg2Br1RkFNzJwdec6nBsTBL+6u71tv6XFuCcEuhsa1qvLdsCFFcqD6C/a6NSdev9rN2XL/ZbAUEbISNLQsaSBw2fQ3rvVQauY4pYOIs1+tjR02Hv0Y4N+XRHl7Z9NvbWc6MvsenbJZVplLSCB1XKKb9KBIaHLK61JYDiXjrbyssmkBJK9phENtB1H/mcbdXyJ8mj/7N6k5fQl1T9t+2AoOWgkWbz3kxzdX/LCUEqgPWkaDSTbcf7U2O22/JbmbiVnrc404ZtHL7TtQ8la4gc4/9k8BOV6IDx8Fkwb3dbSnGgEBx7mluqjhp7GhlCvKIKZVxCmG1VXS3Xr3AN05yEc14fgdf36VaUJQUUpyk2Gwr5mWxbZXRz50Atbk9lH4439+HxnUqP4Th1DJrmgX+kFnEloMaCAmpkV+uuUQcstCAGvNBqM1RSgorQcJkPt8ei07UYUi+3/L8LbH7i0v8VtETWYWfWHTpkW3IIC0Njttvy+f+YMEvmOmDTBULHQgBOzEiClohMLyLKrNX16pslwHYuUcre5kq71Sm65IdL8KxRz8jLdrdd6M7fi6KfYTGra2yyi095m1G1aJDV3phZh0mjTK12p77xoar5PQEqFJxaSo3MIJTb3mi46Td5m3WhaZLvO2pCyNDr3axI91gFDaSGdWOhIziGJzfcutOY3c5PCXPTIeOYBUnQUXmlELL0VSTP6atMQv2OUkZNDOQ1KNqVfiKC5/TVIY/RGbo8OwIoxeIQ2jQzJaHe/ZkX8Ohqpb0WLfq7rqqssKaIy9kDllzfTJIdZtLeFOIhJC6YR2iMpJKO9Z30SVFJJURn7/8vp8uZJ5DBrb4vhW8t+S+hGhAf16TOVdt1U/D8ph4glaRQ20aA6Nqqekddq0Zy4ndupAwj3kIeeGXn/okjvLUO5J5bQaPPhNH9HPBWKc2mrizHZubmSjc1UCvur5YBZuMeD9My8SaHTPmaq41gXYztyc7Uhm6lh1IrbzftdmU0xwR40aMCb9FV8B54sLEoxFVNWcBpbNh5HTotv/Y/gQdNmNjbMG8YtK0bVOT9YuedgVdZRzFWwm5XJO4/vt+zAdZsFGHPrGBI7DYX7bA/YtjgPtwrn/KzgnrMKWUfnouO9ux1DevNHbNqZiE5D3THbwxYtTx9uzm8GCaGLsL3sNSxe/BaG6NYYFadGyiragYQSA2xJ1zm0Az0ECiBJpABbXXIOzVboDf6Z8RT8VuhlsDEPb8fhx93fInz7AZy/JeKsyoc4NxGn9gViaZQA3qvnwvSx1F5biJGbeAr7ApciSuCN1XNNn5PO/afnd8fCCSYH0SvmwvegFK/OeBWav29DxM3JOJgcAXc9bpu2eJiGU0cvIb/NUEANRg5T8Vp/LW75aSODMDEaR5KAAU4TMMpUnkGUx4BMiMToI0jCADhNGIWnddoO8xT97oCIy3F26VhMibJE2NlI/LufOkSHZ8F4Zjo++vMPrLaqG7FpDVnhfiye+iUSJJyhRTTgsOQoQqfpc8sqVHBUi1gRJElB5NhJj9y+5WZ5SYspxtuSNEzep5NyTON93FT/FVVRntIeFAxTGCTtP4A/pSboWXYUmwJ8MOOVYZh7ZgjW7/0crtz0LSYpBONNpyA8uyPzrVSoaB0Fw4l72OFmAu/rLvjEayyMDfvCwmYUxg4zQZd6twVz7TA2n1DDmx+/if4tzewoPYew9T8go805eOqwnLYG3mM69F2sCiVEsZZYWo775VKoDXDHshVL4Dt/BtzsWQFXPcTDmkZXhsJLP2BvXDnMRtuj1QlXJEWVSASRHEUiVbXoKpqiYEtcgWjPl/HWhWk4eWkrnHVluJ8UiZW+30M/5AQ+c9REVcFhvG8/G9cXJSF2af3pii8uD2//hSs51fko2oDfHZaOg2CoqjS5ULh3Qnz1a3i4LcFvVb1h0rUSQtjgg607sNatb61gH+zHdLPl6HEwFVvH15vh/wIjPD4fdh4RyCEDDJviioENM7ygPCMW/42/A5HGZEQUHMO8jo5kvShUi1hRpGVZFPdLDP0Wl0HFjebPVn/BOkDPnb7v+CdcyoM0j/a/05vUeAKyWPhz05lsTDZ9596D+JqTKaJj0wleKDo0iMLX6QeHV10wzsEc3Rt0C8uQH5+A2xbDYd+VM6lgK6wXpm34HO49pcjc6Yc1v9znVnComWKm33SYqcKIdvGERgIlSE66Dt0htjArvY7rbX6p+eLA7zsLm9ZNgr70Or71XYez5dwKDq1R/8Yn851hoYrA5IdrkR8zYrq41Ip0LcaRxztL6VBWa8lGXkCYdAp16UZ8niZZ+8c2M+m+KeKiLEqpzqqTVVQvNZaEim9eo8y6NEWUn1mbzSi7rTRFSsSTm8UmKaL0q5lU/OLUZbuQJH9BTl35xNOyo5VtZniRUl7MShprwCfB4Hrf74l/p48tNchk4enavBRsTB29eBjpsDG3XcAVVuIvBk8onGBR14flkJfRXRXfNYu6lS/+4+8AbfEVfOWzAZdanfzHRy+X5fB10QUJi1HCTZaS3r6AuGwJSgoLa7/nY2PqCR6O0O88HG/PqPtKWtl5ciJW0QYasP1kCz6y00LltfOIa/O9QRMmpsbglZVAWCNiKdIPHMdtg+5gigpQXLM7g7SzcWCmfAgvboiUSViHsaYe2FE/w4uSoRLxM0QmvIUcoSYclwXj3bYzvMDIyBA8sRDFtWmKEHasDxbNMQevqBAF1RotP43wQ1rwXjkVPbjDyQSWcPPxhFP9DC9KhkrEzwrpDUQs8MVJ83WIWG6Ptqfb8qHPirgzlaK4WILUb75A6iR/eNamKUIhU4WrocG47BoIn5rEJTLkxx1CVIIIlmMcWx/6f85RifiZIMbVL72wNGEUNu/wxkA5g1f1Xr1gwCvFvdRIrD1sDn8fG3Tt2RNd7xciL+VbLPthIAJXj+fySfDRzVSG06sXYutFcY1FWVGJ+Bnw4PxnmBeUC4/wcMxqmuEF0cGBOHyj6acuakZG6IFCxKwJB99nNVx12QvIilhfmoKw93ehz5ogTGQb5kdoCipQWm6CofZGSn2hVSJ+ysiKf8KSd8PAvLcTm99omvFGVnAS4RsOIbG06ZQWtZ7GMFSvQJGZF4Km1wqzunXuQXfw0HE9Ql7Xb3A88ZXLSFazhv2QRnnhlA2uq03F00B6iyJn9CXtIX50LKNxgpccyk6/QBFz+5OGxmjamNlMB7s0n67EnKTLDdMUUdxPsZTZZMSEobTgEaQ9MoT+EblWniAqET81JJQWNpEM+M1/jtOgaE6k7R3JDF+DkPZ46JGZ9y+PP0H3P4yOfe2sQn5kBTi9ZSOOt53hBTxNG8wOnIdhHYkCqs7Bz8odOauycFTRDC/PCSoRKynMlTWwH3ceXn/FYPHTSZDxzFC92Ckb4lwkntqHwKVREHivxlwlF3A1qpZYyZAJExFdm+EFE0aZyjGI8vyjErGK5x5VOKHiOQf4Hyxdrpma/cLTAAAAAElFTkSuQmCC)"
      ],
      "metadata": {
        "id": "4hWZQ6NS1xf6"
      }
    },
    {
      "cell_type": "code",
      "source": [
        "def compute_error (y, y_pred, w_j):\n",
        "    return (np.sum((w_j * np.not_equal(y, y_pred)),  axis =-1).astype(int))/np.sum(w_j)"
      ],
      "metadata": {
        "id": "RP4fCz6Aw9pn"
      },
      "execution_count": null,
      "outputs": []
    },
    {
      "cell_type": "markdown",
      "source": [
        "![image.png](data:image/png;base64,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)"
      ],
      "metadata": {
        "id": "LTvynLy51y4W"
      }
    },
    {
      "cell_type": "code",
      "source": [
        "def compute_alpha(error):\n",
        "    return 0.5*np.log(1-error + 1e-6)/(error+1e-6)"
      ],
      "metadata": {
        "id": "qQIATbCZxpRy"
      },
      "execution_count": null,
      "outputs": []
    },
    {
      "cell_type": "markdown",
      "source": [
        "![image.png](data:image/png;base64,iVBORw0KGgoAAAANSUhEUgAAASIAAABRCAYAAAB2f6ttAAAAAXNSR0IArs4c6QAAAARnQU1BAACxjwv8YQUAAAAJcEhZcwAAEnQAABJ0Ad5mH3gAACZqSURBVHhe7Z0HWBRXF4Y/ygoWIlZEFNEgitgQsWKLomKiJvZoirHFFo2/CWgKQY2KxsTEEowt9m4siSX2GmkBJIKigGCjSJO+srvfv8sOsDSD9Mi8eSY4d2bnnpm5c+455zYtKoGIiIhIBaIt/BURERGpMERFJCIiUuGIikhERKTCERWRiIhIhSMqIhERkQpHVEQiIiIVjqiIREREKhxREaVH4J/bEVAIuyIiIuVP1VVEigT8vWkKuloNgPPZSFERiYhUIFWzZ7UiDpe+csB7pzrih8NrMaZFNeGAiIhIRVAFFZEcoZveRk8XHXx79TAmt9AR0kVERCqKKqeI5GFbMKLr53i+2BcnPm4mBslERCoBVew7TMCJxS44Vfs9OL0vKqEyRxaGw7N7oaXlICy6EifG4UQKpUp9i4rwXVh7MAptxk2CXQ0h8T+LDAkP7yIoKAh370cjXUjNJOU2Di2ajXnb/IWECiD1FjZ/PBu/W6zElT+mI/X7SXA+FyUczEsq3H+ejTkrTiFMKiSJVC1UrlnVQMZ7K3tST9eSju5SIe2/TCL91rzFRroNaO96g7FyITnNh6ve6sfZxx4xQ0gqfVIYGRbJZGGvIGQPrvOcf4Kwp0QazisXbwk7BZHOe7smsu/YLbxXdoK/PNJYht70pIf3LT5IlAmJVYD0J/S/7s6g7IJVtlQdi0jxBKdO/w1Zva6wa1dJW8mkT+B7+jAOnQ1EgtKPeR57H7fvxwoH82KAVq8bQcdwAKbN6oa6mW9ShoDVc7Db3AWuw0ygm3me0t4Iu44jhy8jJFVISH6CoMBA3I1IERJeDqn7YoyafwqJhflaqWFw946Abg2JkJCMJ/eTUa9xXRSeox7MJ3yPudVXY97W8HJx4xQPD+CzESPhfDJeSNFEiqA9M9DLZjBmOc/DaLvecDydJhx7xXnmie/fsUX3/n3Rue8sHHkoFw6UIYJCevVJ2s+xdbRZrc9qhpePkn8p0gO38P1ufTn1h53cNPsNvv3TGX7Xtx6t5l9SnyCP5Pm133CHT7p6X2nv3PymE2v2+4kPsu5Heo3/a2PNL71zTIoU79Wc/P5kDjbTp6XjX1TZgrIHxzmldTWaTDmptG2ykDP64jp+s8NHaZtokkG/bY6cPWsWZ2VuMznGxogtB05V/vsTLv4tVDhPIMWbqye/z8mDzahv6ci/1Bny+JTWrGYyhSdzMqQ8+iLXfbOD2bekJP3cDLbstoQB5WB8JO5/lw1rtqVjppC5SbnmxHYG7en0l0rgJPoc2MXr0ZWw4OQhIz2N0hKIKY84wwU9m7PTpM30ibzDA3N70NTqI+4NKVsztcpYRLI7NxGYDNRpYY6Gle2upV5Y9r4znk3Zjg3z3sPEqb0QtXoq3KSzsXVxH/U5igjcvRUPuX5Wd4N4eHoFo5ltVxgJ9yN/cB0esZboZJllCwH6FuOxfOMGrJpkhfAL5xGsrNx0jOqitm47TJpuj5xQmQJP7gYgTqaHvB0a9OsYw8TEJHNrLLkHj5SeGNu3eea+Ue081qW+BcYv34gNqybBKvwCzqszRN3aumg3aTrsNWJziid3ERAng55GhnrWNrAI+gvX44SEMsRgzB5EJf+DFd3zWsix+O2HjQiyGoePuqgErgXr0RPQo0Hl/lwUEb9iVOsx2BlZTHtSHoT1c1Yh7ZOTuLplMqyNWmH0jxdxeXkj7Jj3HW7KhPPKAkEhvfIk7x3N17Qk7PC1TxnGTopH0pH3aWzyEY8LQRfp1Xm0qGNH15tCTS0L5pnNbtyw+xqfZNV2aSc42aQBJxzOidRIr8ylhcUcXi4gBJZ+fiab1x3L/crTE05MY7f3DzCngpcx5OwWum3YxauPX1SdKq2jb3rRYe195S/+hfTznNm8LseqM+S0bu/zgIZFIQs5yy1uG7jr6mOlLaZB2lF+YNyZLv5l+ZaSGOZ9nsf2bObGE0H57iXj3hoOqK1Ls4920+9WAO88ThKOFJGkIJ7dvlF5bxpxOnk8wwNv8VbAHb7s5YqGjIHLe7Ll5D+YKKS8LElBZ7l9o7IMPMp59vL4cAbeusWAO4+VT63sqCIWkRxRjyKQRi3UqVuvkjUVyhDk7Ydn5u3QvrpqPwXX9/+Oh53G4YO2Qk2tY4YWsTvx+VY/ZHX6kt31gM+ztuhqm/kjNVra0FYooCigZ5heh06wlIci6J431q6JxnvOI5BTweugmdlT7PhsC3zyhQOkuPSNPbp17YquXbthxE83cWvzWPTI3O+B0T8V0jKn10FpmckRGnQP3mvXIPo9Z4zQsCh0mpnh6Y7PsCVfhnLIFVrQ1tYS9ssAeRR89y7ClPdmYN2NlOxnqsr77v6FSktxLdyT9KEbvBdfL/wSa89FKo8UkRR3fDtyHOYvccSHQz6EW6jwy7RgHHccgg5tbTH94FN1WrFIxZ2ze7Bz587c2/Yf4LI1BM2Nn+KokLbnXFDu1tQXkOL+LUaOm48ljh9iyIduyBH7OByHdEBb2+kokdj/hqCQXnEy6LnQihLoccjmOCHtBUhjGBqgqr1CGaNhXWTE3mdgcCTThP20yGAGqGqLsLh/txCYwgfux7h9w3r+sv8aw7MuQindHS1ZvfcPDFOaBvGXXTiyvQlfG7mHycmP+CBGZS+k89TUZmzr6J4Z41HFcyI2DKKBxf94TUM+edgP7FNvJPcUVHVJb9DRyog97N/gsB8D8lmFaX9MZpPWua+nRs7owGu8dPECD3/Wg+0mbuH5ixd5MXO7RI9gjZaxXEh5w9GKRj3s+cawHxmQP0NObtKa/8uToTxiPQfUGcZtRXhNJSHjn0W0qdaQHx7VCFplImfkRgfW0O/PdS+0DgsmzX09VxyLYLrXF2wnqc6BbhGCxSdnlJs99RuO5b6YzITiIY/ivhk92aVLl1xb+6YGrG5sRVuNNLvZB1m0rNLovn4Fj0Wk0+uLdpRUH0i3COHelfm52euz4dh9RbxW8agiiiidF2Y1p45SEQ3f/qJGZzWqgN2XvepTW9KWCz2zviApr/3PgtVMZ/BcZnBVxrBjs2ljoEWJtTP98n5oGmSEHeXnfUxpZjeRC5w/pl0DCU0+Osp44Xjyhfm0MjRlz+HvcNT8ffTdOZr1TWz55vBJXOejlFcWwCW2Rnz3oFp2WfhRTm9fgzoN3+AKDw2tk+HDrzq14tzLucPNauK5bbgBjYdvYUg+rZlBfxcb1h+1t3CzXv6Yu6dP4sbgokeR47cNp4HxcG7JnyEz/F1oU38U9+bJMOnIBzTts4ovkU2xSNw3hobVC1I2KTw+sRElbZxYol4e6ac4xURC0+lnheB/Io980ERZmfyV0xiQ4c1FdqZ8e2Me9/RlkYXyp/4tOOFQybV3+qkpNJGYcvpZQcrEI/ygiSqgr1GmSktuDaqMIjo9rUmmIhq2rWiebvLBd1lH14TTTgsvQBbMlT2rUauW0uLI0mWqOIhZTXZfHli4RZR4iY4dDNh09A6GZiqrNB4aX4fVbBbzVrbykjPhvh99Q+IESyWRYf4BfJxVWafs55j6vfhdcDQfPX6RIpXxvtubSqvlCGMz95XXDQ1mZIacsZedOai/E88X2C8klluHGrKHa/54ycsiTwhlcGQG5bGX6TyoP53OxxZYWGO3DqVhD1cGaWYof8Atb1vx3X1RpVbAC0bKK3PNqadUNh55lU2GJxe2lbDe+EMv7Cf1r8gjuWFQder1W8NHypuRR+7kqNYjuV1T8Ulvcu/S73g010N4eTJ8nWljOZeXsq3s4iOP3MBB1fXYb80j5TtQWoc7R7H1yO3Mpa9LSW5NqkiMCNDRVt+qVFq0rrt6ps3QWCsRcfFqZ1kedAB/PKyPurIYRMWqWyVkdy7DQzYUn05upW5pkv2Nxb2a4Z1NT4R+MDLcWuuEteF2+GrVBDTXBRRxV3HBOwWNbGxhlt24pY3aZh3QsUUdoe+PAZq1a4PG2S1MtWCgH4RtU2dgvXfCC/rY6MBs6ho4YQ1mrvfFM8Tj8KcD4ODQD4OXyjBv1zK8oe5wlBupL7xu1UGHzs3ytZi9LPGHP8UABwf0G7wUsnm7sOyNugXE5KTw9bqFOh06o1lWhoqnuOb6CXY3WYbvRzcs2zie/CFueD1ArY62sMrTYKaIcIfHPW2062ILjejby6NdD9bWLcDQO7iT8Ry+P29C3EQXjG+svjNFpAcO7f0b6RZ26Gr+Ek9dEYU9U2zRsWPHnG3Yj/CP+h1zummkKTfbj/ejsF5ohaFdzxrWLYjQO3eQ8dwXP2+Kw0SX8RDELr7c/4agkF5x1G6VLiS0+y6kSLW+/MFP7FetGvuve6KsF5J4ZmZ3jl+xgF2rWwnuWiJPTWvDnsv+yYm35K0pVK5SBwmrtZ/I735awa9nj2VPM2O2GbmSVzNjP0UnPeYRo/KGMwpDHk33rc788tdrvHlsG3ed8GNUtpD5yfD/hjYNR3FPiS17OeNvHuO2XSfo9+IM+Y1NQ47KzjCN7hscuXiPH+PL1hRSk7iXow2rsfcP9/NZXklKS7iuxILzr5fEL1OTpHL/9AfRzXM9h/X9gjc0LZb0CO5/z4T6fdSxwaKTxpCrR/nbb79lboc3TWF7pYv+1T71vuZ29FpojhtYZJK4b4wh9Qe50XP9MPb94kZ2TDSTYsv9YqqIIpIxYIktJUpF1O4Lr3yB2gJJOcCxhhLaLPqH6YHf0b7fEuXHtYkO1Y056Y80pc5Zyt6dPuUFwdOTR7jz4Lat/PXgDWbF+Ri9kYP1ddliqBOXrvyJm/aepGd4Ur7CX2HI4+i1fxVn9jJnz0U3SuaKFAk547z2c9XMXjTvuYg3yj7DApEFfktbSW2O2Z/I8EOf02lvhHBEyqvzLCgxHMv9pdBWLQtYQls9Y1p27EvHy3mjbzHc+tZrtJh3VZlrcZHx1tLubDn1ZCk2rau/FT1jS3bs68h8YpeK3PkpUwu48qADo4b1oK2lQGxUdNGaYnUboVF9LSQ8vY09Lodh7vgJOrxmBKPXniE6IgC/LPgNlku+Rr9a6tO16zSD4tzXmLHuhtLxUCNPeoYkuQ5aD1+ALz6fgynjHGBrWgvPU1MryUh0LdQyssIYt+u45NwNNYXUskSrlhGsxrjh+iVndCuPDAtAp+HraG6YjN9nWuLNPWZ4d1gj9QH5I7h7hkGrnS00e0UUFx0zK7QySIS+w1I49zYQUgWkfvC+pYP2tu1Q7AFH6VexcWc6xnxsr3TeSwule2/VCgaJ+nBY6oy8YpeK3AUhKKRXnrTjE9lQW4vVh/6a3Vr1QmT36Nq9Gg0sLNl53G51R0KpB53a6LF5x060mXqcub2rAmqK5KP80EjClrPOMbORW55A/52z2Le/M91f3mYWKUWSQt15ySM0tyURt5Pv1JbQMrubREmQM/rEDHbt70rfAoLIsjvL2a1md7reK0HAN/EOr1z4J085LCFKt/7EjK7s7+qb2yUTKBW5C6DKKKIMn6/YQQJKbBbxnyL5ZoncMbwGtes60C2r+VkeztV9qlFiMYOn8rY+pZ/jTLM6HLVHs19NOm/+5MDG1fRZv7kFWzRqwBaDvuLJB6X7EkVKh/hDE2ik14FfeRWpgBRIWlwMVYP0k7y/55AuE7g7rOB3Hb/rHRqazeT5SlEhpTEuJlHplCXR+/sh7DJhNwsRu8zkrjKKiLGbOERfizqqgZdFeohyRvqd4SnvJxrBbRkfeJzk1eD8wY3Cawo5E0M9eP7MRXrciy1afEqkfMkI4/W9q/hu6zpsO+dU8S0M+WOus29Ma4eB7NBhBNffLKx1QcrLc8xpOHwby7jfZpGQP15H+8bWdBjYgR1GrGehYpeh3FUkRqSkZjM0baANRcwjPEwU0l6INow62GOwjbFGk7YOmnZxgN3r+YMbSd6euNPAGrZN8zZpasOgeRe8Yd8XXczrZk/NIVKJSAqH781n6Lz4Ai6vHox6xf0qKEXT/hMxfPA0bLtwEDPba4zw1UQWiPNXnsJmQF/UFpIqEkqbov/E4Rg8bRsuHJyJwsQuU7kFhfTqI7vD5d0khKQ9v9KYJqN0qFw1nEhlJZ2PfM5wr/NAtrRdyEvFHZ1a7pS93FXHItJpgmYm+tCSR+LRk1Kez6CS1XAilRRFKqLDHuJ5x29w9tIy9MnbIlVZKQe5q9AqHlJcmtMGA9Y9hv0vj3Fqaj0hvSRI8dj3Cq4eXQXnUzbYdP4/VLhERCoRVccigi6MjRtAmwrEP31a9GkdXsR/tYYTEalkVCFFpIMG9etk3nBqquYcNCVAuw6s35mED97pgWaFBfhERET+lSqkiAD9WjWhqwVIdEu1T6iIiEgJqVKKSIWWalhDbYOqd+MiIpWYKvU9ZqSlIwM10LhpGU8zISIi8lJUoe9RjojIp1DotkRbKz0hTUREpDJQhRRRBoKDHwBNu8Hu9VKc0ElERKTEFF8RPY/F/cAABATeR+xzIU2JLC4Mt0OislcPSI8KQWBAAALD40unyby4PPfDFfc4mL45At3EWLWISKWi2B0aFZFn4TxmPJa7N4LTdV8ss1WNonqO6/Pb4Y1D/XHy7s/orydH+PFPMfK99fA3/xpenovQoUiDrVRLphyFV+S/qy4d4y4YMaAV9IX9wnh2aho6jrmFjz2uYkEb0SISEalMlKhndcqh8Wj67hWM/iMEvwzSA+Qh+K5PGzjdHIrdkYfwrmpsqPQCZrUeBt+PvXB1gaXGANIXoIjG/tkj8MPfGUJC4VTr8jmOrh2FF/WTlj8+hhn2H8FnxB+4/G2PcpkATERE5CVQKaLikuGxgFYSA47aq543QBawjL1NG7Oefh+uFhaYz/Bzpk2TcdyftcpnGSxFUihJHtwyfyy7mpqy12fHGF7IHCsiIiIVS4mC1drGxmioJUV87DMokIwL639Hk1kfwFwrBtFRqslQk3Du50PQn/llziqfCgksHD7BxD5GZR8pfx6BWzc8EZTcAG06mqO+6JGJiFRKSjboNfUgxplMQPA8H1wffRpDZ6Xju32NsNDMGcYHQ+HW9AfYf/QULpdXZ87trFqK5Lc/A5Fc0xKDR3RDo0I1UQKurP8Wv93791Hyuhaj8M1MOxQ+zEuOyPOLMGb8NjRceRn7P2xeNPdQRESk3CiZUVIKE8wXDCF/no709CJsGfJ/mYheB436f4Pti9viktNn2BNROaatFxER0SDTQSsupTHBfHmRpFprXZ82LjfF6VpFRCoZJbOIdIzQuKEuUmLMMHnpWBirrqaykhoQj1K74lvXN3NPu1lWS5EUhVp2GNBdH/5HDuGfUp4XTUREpGSUTBGhJgYuOooTZ7Zgagsh8qJtgpErj+LCye8wOM/yxvIwL/g8bY3OtqW3ClPRqYk2bVoAty/j0mPRPRMRqUyUUBGV1gTz5YEumpgYQVt2G35+Gl3BRUREKpwSKqKX4Tn8Pf8BOnSBdQWNOdWvWR06fIaHD2IryUqrIiIiKspPEVWGCea1tZX2GpEYHy8qIhGRSkQ5KCLVBPNnsW+JE/ZKZuLrD5uVpxmWi+epaXhO5d/nWUNyRcoNWRgOz+6FlpaDsOhKnFgRiOSi7HVCpZlgXo7Y2ITMD0BPvwa01ImvIDIkPLyLoKAg3L0fnT0LQiYpt3Fo0WzM2+YvJJQTqbew+ePZ+N1iJa78MR2p30+C87ko4WB+Ut1/xuw5K3Aq7MW9zUReIYRm/CqAlFfnWVAX1TjQLarsx7lVGIn0W/MWG+k2oL3rDWYv0Z/mw1Vv9ePsY4/KvR+V7MF1nvNPEPaUSMN55eItYadg0u/t4sS+Y7nlntjrqypQUV5SBSBDxJNoyLUNYNTotQpzD4uF9Al8Tx/GobOBSFCadM9j7+P2/VjhYF4M0Op1I+gYDsC0Wd2g7kEhQ8DqOdht7gLXYSbZy16nhl3HkcOXEZIqJCQ/QVBgIO5GpAgJpUEqHj6IQkJcjPJfapJj0lCvoQQvykbPfAK+n1sdq+dtRbjox73yVB1FJI9E+OMUULsRTBr/d25bensrPug7AW6305Bw/BN8tO4s1oyyxej1t9QnKKJwYZ0LdvpmuTEy3PX0RUK7buiatcTRcw9s3ZWCIe/lTIGS+vePmOP8KzZ+NhhDF92AqkODPP5vrBppjTecr2QrDWUGeHppPVx2+mYOy5Hd3A6nT2Zj9uz825wlR9Q/ySYVf/84B86/bsRng4di0Y3MXBD/9yqMtH4DzldycoHiKS6t17wPoK7De+gV9Ct23qnQKfXUPI/DfX8veP4dgIdJlUCeskIagX/+8sDduPLV/lVHEcnClYpI+XC1jWHarEizs5UhCjx7EAD/mzdxM9/mjzsRwgcq9cKy953xbMp2bJj3HiZO7YWo1VPhJp2NrYv7qM9RRODurXjI9bP6ZsXD0ysYzWy7wkh4u/IH1+ERa4lOljn3rW8xHss3bsCqSVYIv3AewcpvS8eoLmrrtsOk6fbIWaZNgSd3AxAn01P3FdOvA2MTE5gUtBnlbQ/Vh8X45di4YRUmWYXjwvlgpRrSgVHd2tBtNwnT7TUWg1M8wd2AOMj0NPqY6VnDxiIIf12PExLKBsXDA/hsxEg4n4wXUjSRImjPDPSyGYxZzvMw2q43HE+nCcdeMZ554vt3bNG9f1907jsLRx6Wo8IVXLRXn4RtHFZDS2kQfcTf04S0CiOdZz7rwtatWrFVvq0NB7v6ZJ6VdOR9Gpt8xOPJmbuUXp1Hizp2dL0pjNSTBfPMZjdu2H1NPc5PRdoJTjZpwAmHhR8pkV6ZSwuLObxcwAC/9PMz2bzuWO5Xnp5wYhq7vX+AWVNHKTNgyNktdNuwi1cflySqls7zM5uz7tj9TGYCT0zrxvcPROfE6WQhPLtFeR+7rjJ3Nmk8+oExO7v4C/tlQ+L+d9mwZls6/pX/AaVcc2I7g/Z0+ks151YSfQ7s4vWcB/TKII84wwU9m7PTpM30ibzDA3N70NTqI+4NKZ8YXZVRRBn+LuwkASXWzvT7T8Q/M+j9ZTvW6PMDwzLLfTIvzDZn9f7rcpSOUlEEr+hBA2Va1geccdOZ1rX6cc2DnI9FpcBam8/mxXQhQZOYzRxS25aLfb24ZNDbXHcv9+xxsnuu7K683k/C9dIvOnNA1y7s0iX/1n3Uj5nnFETM5iGsbbuYvl5LOOjtdcydjYz3XLuzVr+fqCG2kjQenmBE28UvDmyXHTHcOaIOq3Vbxjuv8qR6sjtcM3og5+67TfUUhyqkvH98IR2GLSuX76XKuGayBw8RIdeCjrEpmhbgmakCwJmT/N+PzYyXqJEhLuw2QqKylwJAVEggAgICER5fFLM1FQ89jmPHLz9j44HrePBS3ZcUkGXIlBWFei/hyiqsv5IGiWFdvJb2GA9jVT68DPeCH6OZTWfUz3yTCsTc8EBwY2t0yvLLlOg2bQqj+AhEFDTzroEV2jZ5gNOOTvByWIqPzXMPv8kIuoeHTZQuknA9idU4uKxYgRUFbMs/fyvznIIwsGqLJg9Ow9HJCw5LP0bubDIQdO8hmljbZLuTmSgSEBn1HMamjYWE0iYZ4X9fwPG9W7Dp5N18izvIgvdg+/kkNLZshvQ7gQh6kiwcKSLJd3FuxybsvvZY+aYElPf04LZq0YkgvOzlyorkkIeobf8BRtmZZ7vkioRIpLWYgFUrP8Tr5RHJEBTSK0+cskbW19Jmo0l/KOvZvMgZceZL9qqvTUnbhfTMqgGk1/g/i2o0nXFO6VwokYXx2GwbGmhJaO3s98Jm8Iywo/y8jynN7CZygfPHtGsgoclHRxkvHC8KyRfm08rQlD2Hv8NR8/fRd+do1jex5ZvDJ3Gdj9KXkgVwia0R3z2odsNk4Uc5vX0N6jR8gys8kjLTMsnw4VedWnHu5YJMonhuG25A4+FbGJKv1s+gv4sN64/ay0QhpdjEb+NwA2MO3xKitH/ykOFPF5v6HLU3Ty5JR/iBaR+uCi4jc0Tp2h6Z35sNtCVs/5WPxvuUMWjfAr7fvyVradeiea+3OHTo25y1/V5+2Qsj+QaXDLRme3ND6hj055qsh5vsxbVvmVJHy4BDt0ar04pECm+f2c0dO3b867b77J0CynjBJN9YwoHW7WluqKO0rNdkl4Fkr7V8y1SHWgZD+VJiFpMqoohkvL20KyWQ0GqhZyEKJJkH361DXZNpPC18r7LglexZTYu1Ru5RHlWjiqmY1ezO5YEvKJKJl+jYwYBNR+9gaGZmaTw0Xmni2yzmrRdpr3zImXDfj74hcYLMiQzzD+DjLPs5ZT/H1O/F74Kj+ehxTkwoPzLed3uT7SYeYWzmvvK6ocGMzJAz9rIzB/V34vnsDkeaxHLrUEP2cA0q+geoiTyBocGRzJDH8rLzIPZ3Op/Tr0mT2K0catiDrkGaucj5YMvbtHp3H6MK+k0pkfHPItpUa8gPj+Y4JWrkjNzowBr6/bmuGPGxNPf1XHEsguleX7CdpDoHukUor6hCzig3e+o3HMt9MZkJRUMexX0zehboEufd7GYfVDqVRSGN7utX8FhEOr2+aEdJ9YF0ixDuVZmfm70+G47dV8RrlYwqooikvD6/FXWViqjnyuBCPqoMeiywosRgFNVrAcgYsKw3TRvXo36f1VSvBZBBP2cbNhm3Pzugm+G9iHamb3NjdmHN4D9KpVfd0IG/CAsIyGPPcKbKspp2KluhlQopJzi5SUNa9RvJhcceCQW9EGQh3DWxH8eu82GCsmhtGWZG6wG9aTvwC57OKnx5ST/HGc2bc8a5giypIhCzhcPMrDmgty0HfnGahWczg82bz2BONnJGX13K4W/M5rGcgFiZkLhvDA2rF6RsUnh8YiNK2jjRvSSz+KWf4hQTCU2nn1Vb1crK5MgHTdjW8S9hX0l5LihRCOmnptBEYsrpZwWpEpXWaBNVAF/j3ZehnFUkRkSkpqQp/6+NWq+9pjFliSbaMDZuCC1pPGKfKZSO8wWs/70JZn1gDq2YaKjXAjiHnw/pY+aXI5CzFoAFHD6ZiD5ZwQ3ZP9h/wAdyUyMkHl0F50/GobfNh7jU7lvsXjawdJcyqjEE6/18cOGPQ1g2zOTFfTF0WmDClv2YV+Movtt2B50nu2D+vDX448RSDCpk8nDZ3avwTLFBr07Fmy5BodMZk13mY96aP3Bi6aBC5iiX4e5VT6TY9EJWNukem7DqYnMsOvwThmXOtldWPIffDR+kNe8MW3WQLQdZAG54x+K1jrZoW5JZ/CTW6NxWF1FBtxGjLEOKqGPY7dkVn8/tiuynWp4LShSCxLoz2upGIeh2DBTK/6KO7YZn188xt6vGuy9DOUs2ef5/Bin+/Ph1vLkxBkO2xeD4hwVPzJZ6cBxMJgRjns91jD49FLPSv8O+Rgth5myMg6FuaPqDPT566oLLq/uhlvJlRXr8hj8Dk1HTcjBGdGukfjlPN8HBdCbu2s/H5F6N0bBpS3To0Qs2prUqrJC9NIp4eB/ail/XbcDNATvxp3O3MlkLThHvjUNbf8W6DTcxYOefcO5WzivOyUOwsncbrDTbg/DdI3Pdo+LhWti3/ByKFXdxfq5pCd6dDJ4LO6LX3j44GbQahsvs4VhjPf50apvZw71iFpQoAJknFnbshb19TiJotSGW2Tuixvo/4aRUoiqKLmfx+M98GyWlmkSS+Vdbq/DhrrqNGqG+VgKe3t4Dl8PmcPykA14zMsJrz6IREfALFvxmiSVfq5SQCm3UaabAua9nYN2NnN7A8qRnSJLroPXwBfji8zmYMs4Btkol9Dw1Vam6/itooZaRFca4XcelMlJCmWjVgpHVGLhdv1T+SkhFqhe8AwGrzjaoLiRlkepxA36KZrCxFSqYYqOLNh2tUCMqBPf8N2PxFTssnatWQioqZkGJAtBtg45WNRAVcg/+mxfjit1SzBWUkIqiy1lMMh20Vx4pPZzaUBd6HLK58HarzD4z1QxoYdmZ43Y/yfSDpR5ObKPXnB072XDq8ZjcvnHMVr71mgXnXdUIIiQf5YdGEracdY6ZwzzlCfTfOYt9+zvTXcPdFql4ZIHf0lZSm2P2JzL80Od02hshHFEPkJYYjuV+jcbH4iILWEJbPWNaduxLx8t52x8rcEGJXMgYsMSWesaW7NjXkfnELGM5q4hFpIN69eoo63kiNTmp0NpCx0jpSummIMZsMpaONc6sCVVWUgM+QmrXb+H6Zr1ctaPUzxu3dNrDtp1GEKHmYPzviwFI2fQWzFu0wusmLfH2rjpw/NUZmu62SMWj0/B1NDdMxu8zLfHmHjO8O6yR+oD8Edw9w6DVzha2eU2lYqBjZoVWBonQd1gK5955HKaKXFAiFzows2oFg0R9OCx1Rl4xy1xOQSG98iTvGZnZ/6fD176FNN8rkUfS78wpej/RaFeTPaDHyasMztfcJeOd5d1Ys7trnl7CKuRMDPXg+TMX6XEvtvD8RCqcpFB3XvIIZS7DJ24n36ktoaWjeynU/nJGn5jBrv1d6VtA5x7ZneXsVrM7XfMXovJFHs0TM7qyv6tvgX2QylrOKqOIMjwX0kpSWIfG4hDPXe8Y0mzm+ZxmWJFXgvhDE2ik14FfeRW/CkmLi2Gi8ptN8v6eQ7pM4O6wgj/g+F3v0NBsJs9XSCFKY1xMorJKTaL390PYZcJuFiJmmctZZYLVuq3bo01NIi40GE9LI2r83B/qtQCsc5phRf7byMLx177vMfOrk2jwsSs+7VTMsQ2KJ9gytj36DB0Eu8nX8eamjRjfrKBOIxW7oITiyRaMbd8HQwfZYfL1N7Fp43gUKGY5yFllFBFq9oCd8inK79zEzVJYTUgWeB5XntpgQN8KWwpApLRJCofvzWfovPgCLq8enHtx0JeBUjTtPxHDB0/DtgsHMbO9xnQnmlTwghKUNkX/icMxeNo2XDg4E4WJWS5yCpZRFUDGINcerCZpQ6eSdJVNf0SfM3vpPLAlbRdeKvkYLJEqSDof+ZzhXueBbGm7kJcqbSEqPzmrjkUEHbw+dhzsqt3DnycDc0ZDvySK1GiEPXyOjt+cxaVlfV6u05iIiIpKs6DEv1COclaRntVZxOP4pPYYde0dnPFbg76FmaIiIiLlShWyiFTUwZvOLnBI3AnX7WH55p8RERGpGKqYRaRCjtDNI2DnrIDLlSOYZl7MlhEREZFSAvg/nkdl3AOqrlEAAAAASUVORK5CYII=)"
      ],
      "metadata": {
        "id": "M0-BI3EC13Mt"
      }
    },
    {
      "cell_type": "code",
      "source": [
        "def update_weights(w_j, alpha, y, y_pred):\n",
        "    w_j_update = np.where(np.not_equal(y, y_pred),\n",
        "                             w_j * np.exp(alpha * (np.not_equal(y, y_pred))),\n",
        "                             w_j * np.exp(-alpha * (np.equal(y, y_pred))))\n",
        "    w_j_update = w_j_update / np.sum(w_j_update)\n",
        "\n",
        "    return w_j_update"
      ],
      "metadata": {
        "id": "yCt28PEkx806"
      },
      "execution_count": null,
      "outputs": []
    },
    {
      "cell_type": "markdown",
      "source": [
        "AdaBoost 클래스 생성"
      ],
      "metadata": {
        "id": "OOBY-Gi92E6E"
      }
    },
    {
      "cell_type": "code",
      "source": [
        "class AdaBoost:\n",
        "    def __init__(self):\n",
        "        self.alphas = []\n",
        "        self.slearner = []\n",
        "        self.M = None\n",
        "        self.training_errors = []\n",
        "        self.prediction_errors = []\n",
        "\n",
        "    def fit (self, X, y, M = 150):\n",
        "        self.M = M\n",
        "\n",
        "        # w_j 초기화 -> w_j: tenser -> (1, 1, 1, 1, 1) / n\n",
        "        w_j = np.array(np.ones(len(y))) / len(y)\n",
        "        for m in range(0, M):\n",
        "            # 1. weak learner를 훈련\n",
        "            wlearner =  DecisionTreeClassifier(max_depth= 1)\n",
        "            wlearner.fit (X, y, sample_weight = w_j)\n",
        "\n",
        "            y_pred = wlearner.predict(X)\n",
        "\n",
        "            self.slearner.append(wlearner)\n",
        "\n",
        "            # 2. error 계산\n",
        "            error = compute_error(y, y_pred, w_j)\n",
        "            self.training_errors.append(error)\n",
        "\n",
        "            # 3. alpha 계산\n",
        "            alpha = compute_alpha(error)\n",
        "            self.alphas.append(alpha)\n",
        "\n",
        "            # 4. w_j를 업데이트\n",
        "            w_j = update_weights(w_j, alpha, y, y_pred)\n",
        "\n",
        "    def predict(self, X):\n",
        "        weak_preds = np.zeros(shape=(X.shape[0], len(self.slearner)))\n",
        "        for m in range(self.M):\n",
        "            y_pred_m = self.slearner[m].predict(X).astype(float) * self.alphas[m]\n",
        "            weak_preds[:,m] = y_pred_m\n",
        "        y_pred = np.sign(np.sum(weak_preds, axis = -1))\n",
        "\n",
        "        return y_pred    "
      ],
      "metadata": {
        "id": "SkQngkD2ylgF"
      },
      "execution_count": null,
      "outputs": []
    },
    {
      "cell_type": "markdown",
      "source": [
        "AdaBoost 실행"
      ],
      "metadata": {
        "id": "St2EKiUo2Bq7"
      }
    },
    {
      "cell_type": "code",
      "source": [
        "len_wlearner = 1000\n",
        "ada = AdaBoost()\n",
        "ada.fit(trainX, trainy, M=len_wlearner)\n",
        "y_pred = ada.predict(testX)\n",
        "\n",
        "accuracy = (y_pred == testy).sum() / len(testy)\n",
        "\n",
        "print(accuracy)"
      ],
      "metadata": {
        "id": "CtbxB16My2oc"
      },
      "execution_count": null,
      "outputs": []
    },
    {
      "cell_type": "markdown",
      "source": [
        "sklearn 라이브러리 사용"
      ],
      "metadata": {
        "id": "fiKdEdHj6SVi"
      }
    },
    {
      "cell_type": "code",
      "source": [
        "from sklearn.ensemble import AdaBoostClassifier\n",
        "from sklearn.tree import DecisionTreeClassifier\n",
        "from sklearn.metrics import accuracy_score\n",
        "\n",
        "tree_model = DecisionTreeClassifier(max_depth = 1)\n",
        "clf = AdaBoostClassifier(base_estimator = tree_model, n_estimators = 1000, random_state = 0)\n",
        "clf.fit(trainX, trainy)\n",
        "pred = clf.predict(testX)\n",
        "print(accuracy_score(testy, pred))"
      ],
      "metadata": {
        "id": "ssxiTWue2SoW"
      },
      "execution_count": null,
      "outputs": []
    },
    {
      "cell_type": "markdown",
      "source": [
        "GradientBoost"
      ],
      "metadata": {
        "id": "rD4Ujpxw7NIY"
      }
    },
    {
      "cell_type": "code",
      "source": [
        "from sklearn.datasets import load_diabetes\n",
        "ddata = load_diabetes()\n",
        "\n",
        "X = ddata.data\n",
        "y = ddata.target\n",
        "trainX, testX, trainy, testy = train_test_split(X, y, test_size = 0.2, random_state = 10)"
      ],
      "metadata": {
        "id": "kUGWEj-m7PLH"
      },
      "execution_count": null,
      "outputs": []
    },
    {
      "cell_type": "code",
      "source": [
        "from sklearn.tree import DecisionTreeRegressor\n",
        "\n",
        "class GradientBoost:\n",
        "    def __init__(self, learning_rate, n_estimators, max_depth = 1):\n",
        "        self.learning_rate = learning_rate\n",
        "        self.n_estimators = n_estimators\n",
        "        self.max_depth = max_depth\n",
        "        self.trees = []\n",
        "    \n",
        "    def fit(self, X, y):\n",
        "        # 1. base classifier -> 평균\n",
        "        self.f0 = y.mean()\n",
        "        f_hat = self.f0\n",
        "\n",
        "        for _ in range(self.n_estimators):\n",
        "            # 1. residual 계산\n",
        "            r = y - f_hat\n",
        "\n",
        "            # 2. modify_clasifier 훈련\n",
        "            tree = DecisionTreeRegressor(max_depth = self.max_depth, random_state = 11)\n",
        "            tree.fit(X, r)\n",
        "            \n",
        "            # 3. hm\n",
        "            h_m = tree.predict(X)\n",
        "\n",
        "            # 4. f_hat에 추가\n",
        "            f_hat += self.learning_rate * h_m\n",
        "            \n",
        "            self.trees.append(tree)\n",
        "\n",
        "    def predict(self, X):\n",
        "        f_hat = self.f0\n",
        "\n",
        "        for m in range(self.n_estimators):\n",
        "            f_hat += self.learning_rate * self.trees[m].predict(X)\n",
        "\n",
        "        return f_hat"
      ],
      "metadata": {
        "id": "Ck05WkvS7pTQ"
      },
      "execution_count": null,
      "outputs": []
    },
    {
      "cell_type": "code",
      "source": [
        "from sklearn.metrics import mean_squared_error\n",
        "\n",
        "gbm = GradientBoost(learning_rate= 0.01, n_estimators = 1000, max_depth=1)\n",
        "\n",
        "gbm.fit(trainX, trainy)\n",
        "pred = gbm.predict(testX)\n",
        "\n",
        "error = mean_squared_error(testy, pred, squared=False)\n",
        "\n",
        "print(error)"
      ],
      "metadata": {
        "id": "MybqLuso92sv"
      },
      "execution_count": null,
      "outputs": []
    },
    {
      "cell_type": "markdown",
      "source": [
        "sklearn 라이브러리 사용"
      ],
      "metadata": {
        "id": "WrguhXytEOR8"
      }
    },
    {
      "cell_type": "code",
      "source": [
        "from sklearn.ensemble import GradientBoostingRegressor\n",
        "from sklearn.tree import DecisionTreeClassifier\n",
        "from math import sqrt\n",
        "\n",
        "clf = GradientBoostingRegressor(n_estimators = 1000, random_state = 0)\n",
        "clf.fit(trainX, trainy)\n",
        "pred = clf.predict(testX)\n",
        "print(sqrt(mean_squared_error(pred, testy)))"
      ],
      "metadata": {
        "id": "ZBKnCjuhAWJU"
      },
      "execution_count": null,
      "outputs": []
    },
    {
      "cell_type": "markdown",
      "source": [
        "sklearn - KNN 구현"
      ],
      "metadata": {
        "id": "TW2Mw2cKON-3"
      }
    },
    {
      "cell_type": "code",
      "source": [
        "from sklearn.datasets import load_iris\n",
        "\n",
        "idata = load_iris()"
      ],
      "metadata": {
        "id": "UKDXw3HrExkh"
      },
      "execution_count": null,
      "outputs": []
    },
    {
      "cell_type": "markdown",
      "source": [
        "Dataset 구축"
      ],
      "metadata": {
        "id": "MwzpVvFzPHnw"
      }
    },
    {
      "cell_type": "code",
      "source": [
        "x = idata.data\n",
        "y = idata.target\n",
        "train_x, test_x, train_y, test_y = train_test_split(x, y, test_size = 0.2, random_state = 1)"
      ],
      "metadata": {
        "id": "LonJIKqDPG7G"
      },
      "execution_count": null,
      "outputs": []
    },
    {
      "cell_type": "code",
      "source": [
        "from sklearn.neighbors import KNeighborsClassifier\n",
        "from sklearn.metrics import accuracy_score\n",
        "\n",
        "knn = KNeighborsClassifier(n_neighbors = 7)\n",
        "knn.fit(train_x, train_y)\n",
        "pred = knn.predict(test_x)\n",
        "print(accuracy_score(test_y, pred))"
      ],
      "metadata": {
        "id": "L8Npcr6mPTyN"
      },
      "execution_count": null,
      "outputs": []
    },
    {
      "cell_type": "code",
      "source": [
        ""
      ],
      "metadata": {
        "id": "CeKzo_v1P4_p"
      },
      "execution_count": null,
      "outputs": []
    }
  ]
}