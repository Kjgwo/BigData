{
  "nbformat": 4,
  "nbformat_minor": 0,
  "metadata": {
    "colab": {
      "name": "BigData4주차.ipynb",
      "private_outputs": true,
      "provenance": [],
      "collapsed_sections": [],
      "authorship_tag": "ABX9TyOVnxkDcbXJ4K+jaUfYIPQP",
      "include_colab_link": true
    },
    "kernelspec": {
      "name": "python3",
      "display_name": "Python 3"
    },
    "language_info": {
      "name": "python"
    },
    "accelerator": "GPU"
  },
  "cells": [
    {
      "cell_type": "markdown",
      "metadata": {
        "id": "view-in-github",
        "colab_type": "text"
      },
      "source": [
        "<a href=\"https://colab.research.google.com/github/Kjgwo/BigData/blob/main/BigData4%EC%A3%BC%EC%B0%A8.ipynb\" target=\"_parent\"><img src=\"https://colab.research.google.com/assets/colab-badge.svg\" alt=\"Open In Colab\"/></a>"
      ]
    },
    {
      "cell_type": "code",
      "execution_count": null,
      "metadata": {
        "id": "W9BOuTdQDt_D"
      },
      "outputs": [],
      "source": [
        "import re"
      ]
    },
    {
      "cell_type": "code",
      "source": [
        "str = '우리가 만약 Tom과 만나게 되면 Jane은 뭐라고 할까? 윌리엄은? 그러면 picnic은? 그럼 K는?'"
      ],
      "metadata": {
        "id": "tne9qYaWDx9H"
      },
      "execution_count": null,
      "outputs": []
    },
    {
      "cell_type": "code",
      "source": [
        "re.findall('[A-Z][a-z]+', str)"
      ],
      "metadata": {
        "id": "avLTdm14D5YR"
      },
      "execution_count": null,
      "outputs": []
    },
    {
      "cell_type": "code",
      "source": [
        "str = \"니가 185번 버스를 타고 가다가 130번으로 갈아타면 될 거 같은데, 비용은 1,500원이 들거야\""
      ],
      "metadata": {
        "id": "79hwQYREECLM"
      },
      "execution_count": null,
      "outputs": []
    },
    {
      "cell_type": "code",
      "source": [
        "print(re.findall('[\\d]+', str))"
      ],
      "metadata": {
        "id": "yASIsaNvEKQq"
      },
      "execution_count": null,
      "outputs": []
    },
    {
      "cell_type": "code",
      "source": [
        "str = '우리가 만약 Tom과 만나게 되면 jane은 뭐라고 할까? 윌리엄은? 그러면 Edward은? 그럼 Kane은?'"
      ],
      "metadata": {
        "id": "-lWMSLcPEP7x"
      },
      "execution_count": null,
      "outputs": []
    },
    {
      "cell_type": "code",
      "source": [
        "re_iter = re.finditer('[A-Z][a-z]+', str)\n",
        "for s in re_iter:\n",
        "    print(s)"
      ],
      "metadata": {
        "id": "E6MkDs0jEZI6"
      },
      "execution_count": null,
      "outputs": []
    },
    {
      "cell_type": "code",
      "source": [
        "print(re.match(\"Tom\", \"Tom\"))"
      ],
      "metadata": {
        "id": "ggZZkUw3EkqM"
      },
      "execution_count": null,
      "outputs": []
    },
    {
      "cell_type": "code",
      "source": [
        "print(re.match(\"Tom\", \"TomTom\"))"
      ],
      "metadata": {
        "id": "mPRFfM73U_Up"
      },
      "execution_count": null,
      "outputs": []
    },
    {
      "cell_type": "code",
      "source": [
        "print(re.fullmatch(\"Tom\", \"Tom\"))"
      ],
      "metadata": {
        "id": "mVa_4XDRXm48"
      },
      "execution_count": null,
      "outputs": []
    },
    {
      "cell_type": "code",
      "source": [
        "print(re.fullmatch(\"Tom\", \"TomTom\"))"
      ],
      "metadata": {
        "id": "Aktjre7zXrsG"
      },
      "execution_count": null,
      "outputs": []
    },
    {
      "cell_type": "code",
      "source": [
        "str1 = '강'\n",
        "str2 = '우리나라의 4대 방어선은 압록강, 청천강, 두만강, 임진강이다'"
      ],
      "metadata": {
        "id": "s2PzKQxxX67N"
      },
      "execution_count": null,
      "outputs": []
    },
    {
      "cell_type": "code",
      "source": [
        "s = re.split(str1, str2)\n",
        "for t in  s:\n",
        "    tt = re.split(' ', t)\n",
        "    if (len(tt) > 1):\n",
        "        print(tt[-1]+\"강\")"
      ],
      "metadata": {
        "id": "XvmF2imD6g2w"
      },
      "execution_count": null,
      "outputs": []
    },
    {
      "cell_type": "code",
      "source": [
        "str1 = \"Jane\"\n",
        "str2 = \"Mary\"\n",
        "str3 = \"how can I say to you, Jane\"\n",
        "re.sub(str1, str2, str3)"
      ],
      "metadata": {
        "id": "Y0yBPqQM65fB"
      },
      "execution_count": null,
      "outputs": []
    },
    {
      "cell_type": "code",
      "source": [
        "from urllib.request import urlopen\n",
        "import sys\n",
        "import re\n",
        "crawling_url = 'http://www.hanbit.co.kr/store/books/full_book_list.html'\n",
        "response = urlopen(crawling_url)\n",
        "encoding = response.info().get_content_charset(failobj=\"utf-8\")\n",
        "text = response.read().decode(encoding)"
      ],
      "metadata": {
        "id": "RjuHU7uQ_Rg8"
      },
      "execution_count": null,
      "outputs": []
    },
    {
      "cell_type": "code",
      "source": [
        "for item in re.findall(r'<td.*?</td>', text, re.DOTALL):\n",
        "    if( re.findall(r'<td class=\"left\">.*?</td>', item, re.DOTALL)):\n",
        "        res = re.search(r'<a href=\"(.*?)>', item)\n",
        "        if ( res != None):\n",
        "            print(\"url\", item)\n",
        "        else:\n",
        "            print(\"author\", item)"
      ],
      "metadata": {
        "id": "eaUsHHzVACka"
      },
      "execution_count": null,
      "outputs": []
    },
    {
      "cell_type": "code",
      "source": [
        "urls = []\n",
        "titles = []\n",
        "authors = []\n",
        "prices = []\n",
        "dates = []\n",
        "brands = []\n",
        "\n",
        "for item in re.findall(r'<td.*?</td?>', text, re.DOTALL):\n",
        "    if( re.findall(r'<td class=\"left\">.*?</td>', item, re.DOTALL)):\n",
        "        res = re.search(r'<a href=\"(.*?)>', item)\n",
        "        if( res != None):\n",
        "            url = re.search(r'<a href=\"(.*?)>', item).group(1)\n",
        "            url = \"https://www.hanbit.co.kr\" + url\n",
        "            urls.append(url)\n",
        "            title = re.sub(r'<.*?>', '', item)\n",
        "            titles.append(title)\n",
        "            print(\"url\", url)\n",
        "            print(\"title\", title)\n",
        "        else:\n",
        "            author = re.sub(r'<.*?>', '', item)\n",
        "            authors.append(author)\n",
        "            print(\"author\", author)\n",
        "    if( re.findall(r'<td>.*?</td>', item, re.DOTALL)):\n",
        "        date = re.sub(r'<.*?>', '', item)\n",
        "        dates.append(date)\n",
        "        print(\"date\", date)\n",
        "    if( re.findall(r'<td class=\"right\">.*?</td>', item, re.DOTALL)):\n",
        "        price = re.sub(r'<.*?>', '', item)\n",
        "        prices.append(price)\n",
        "        print(\"price\", price)\n",
        "    if( re.findall(r'<td class=\"brd_.*\">.*?</td>', item, re.DOTALL)):\n",
        "        brand = re.sub(r'<.*?>', '', item)\n",
        "        brands.append(brand)\n",
        "        print(\"brand\", brand)"
      ],
      "metadata": {
        "id": "Qgb2L-7LEhT6"
      },
      "execution_count": null,
      "outputs": []
    },
    {
      "cell_type": "code",
      "source": [
        "import pandas as pd\n",
        "df = pd.DataFrame(\n",
        "    {\n",
        "        \"URL\": urls,\n",
        "        \"TITLE\": titles,\n",
        "        \"AUTHOR\": authors,\n",
        "        \"DATE\": dates,\n",
        "        \"PRICE\": prices,\n",
        "        \"BRAND\": brands\n",
        "    }\n",
        ")\n",
        "df"
      ],
      "metadata": {
        "id": "NQbthEW-O-i8"
      },
      "execution_count": null,
      "outputs": []
    },
    {
      "cell_type": "code",
      "source": [
        ""
      ],
      "metadata": {
        "id": "D4Uji5jjRirN"
      },
      "execution_count": null,
      "outputs": []
    }
  ]
}